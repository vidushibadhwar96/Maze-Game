{
 "cells": [
  {
   "cell_type": "code",
   "execution_count": 1,
   "id": "f2061bd3",
   "metadata": {
    "scrolled": true
   },
   "outputs": [
    {
     "name": "stdout",
     "output_type": "stream",
     "text": [
      "pygame 2.1.2 (SDL 2.0.18, Python 3.9.12)\n",
      "Hello from the pygame community. https://www.pygame.org/contribute.html\n"
     ]
    },
    {
     "ename": "ValueError",
     "evalue": "a must be greater than 0 unless no samples are taken",
     "output_type": "error",
     "traceback": [
      "\u001b[1;31m---------------------------------------------------------------------------\u001b[0m",
      "\u001b[1;31mValueError\u001b[0m                                Traceback (most recent call last)",
      "Input \u001b[1;32mIn [1]\u001b[0m, in \u001b[0;36m<cell line: 27>\u001b[1;34m()\u001b[0m\n\u001b[0;32m     25\u001b[0m fish\u001b[38;5;241m=\u001b[39mfish\u001b[38;5;241m.\u001b[39mdrop_duplicates()\n\u001b[0;32m     26\u001b[0m fish\u001b[38;5;241m=\u001b[39mfish\u001b[38;5;241m.\u001b[39msample(n\u001b[38;5;241m=\u001b[39m\u001b[38;5;241m11\u001b[39m,random_state\u001b[38;5;241m=\u001b[39m\u001b[38;5;241m223\u001b[39m)\n\u001b[1;32m---> 27\u001b[0m monster\u001b[38;5;241m=\u001b[39m\u001b[43mmonster\u001b[49m\u001b[38;5;241;43m.\u001b[39;49m\u001b[43msample\u001b[49m\u001b[43m(\u001b[49m\u001b[43mn\u001b[49m\u001b[38;5;241;43m=\u001b[39;49m\u001b[38;5;241;43m5\u001b[39;49m\u001b[43m,\u001b[49m\u001b[43mrandom_state\u001b[49m\u001b[38;5;241;43m=\u001b[39;49m\u001b[38;5;241;43m235\u001b[39;49m\u001b[43m)\u001b[49m\n\u001b[0;32m     28\u001b[0m \u001b[38;5;28mprint\u001b[39m(fish)\n\u001b[0;32m     29\u001b[0m \u001b[38;5;28mprint\u001b[39m(monster)\n",
      "File \u001b[1;32m~\\anaconda4\\lib\\site-packages\\pandas\\core\\generic.py:5446\u001b[0m, in \u001b[0;36mNDFrame.sample\u001b[1;34m(self, n, frac, replace, weights, random_state, axis, ignore_index)\u001b[0m\n\u001b[0;32m   5443\u001b[0m \u001b[38;5;28;01mif\u001b[39;00m weights \u001b[38;5;129;01mis\u001b[39;00m \u001b[38;5;129;01mnot\u001b[39;00m \u001b[38;5;28;01mNone\u001b[39;00m:\n\u001b[0;32m   5444\u001b[0m     weights \u001b[38;5;241m=\u001b[39m sample\u001b[38;5;241m.\u001b[39mpreprocess_weights(\u001b[38;5;28mself\u001b[39m, weights, axis)\n\u001b[1;32m-> 5446\u001b[0m sampled_indices \u001b[38;5;241m=\u001b[39m \u001b[43msample\u001b[49m\u001b[38;5;241;43m.\u001b[39;49m\u001b[43msample\u001b[49m\u001b[43m(\u001b[49m\u001b[43mobj_len\u001b[49m\u001b[43m,\u001b[49m\u001b[43m \u001b[49m\u001b[43msize\u001b[49m\u001b[43m,\u001b[49m\u001b[43m \u001b[49m\u001b[43mreplace\u001b[49m\u001b[43m,\u001b[49m\u001b[43m \u001b[49m\u001b[43mweights\u001b[49m\u001b[43m,\u001b[49m\u001b[43m \u001b[49m\u001b[43mrs\u001b[49m\u001b[43m)\u001b[49m\n\u001b[0;32m   5447\u001b[0m result \u001b[38;5;241m=\u001b[39m \u001b[38;5;28mself\u001b[39m\u001b[38;5;241m.\u001b[39mtake(sampled_indices, axis\u001b[38;5;241m=\u001b[39maxis)\n\u001b[0;32m   5449\u001b[0m \u001b[38;5;28;01mif\u001b[39;00m ignore_index:\n",
      "File \u001b[1;32m~\\anaconda4\\lib\\site-packages\\pandas\\core\\sample.py:150\u001b[0m, in \u001b[0;36msample\u001b[1;34m(obj_len, size, replace, weights, random_state)\u001b[0m\n\u001b[0;32m    147\u001b[0m     \u001b[38;5;28;01melse\u001b[39;00m:\n\u001b[0;32m    148\u001b[0m         \u001b[38;5;28;01mraise\u001b[39;00m \u001b[38;5;167;01mValueError\u001b[39;00m(\u001b[38;5;124m\"\u001b[39m\u001b[38;5;124mInvalid weights: weights sum to zero\u001b[39m\u001b[38;5;124m\"\u001b[39m)\n\u001b[1;32m--> 150\u001b[0m \u001b[38;5;28;01mreturn\u001b[39;00m \u001b[43mrandom_state\u001b[49m\u001b[38;5;241;43m.\u001b[39;49m\u001b[43mchoice\u001b[49m\u001b[43m(\u001b[49m\u001b[43mobj_len\u001b[49m\u001b[43m,\u001b[49m\u001b[43m \u001b[49m\u001b[43msize\u001b[49m\u001b[38;5;241;43m=\u001b[39;49m\u001b[43msize\u001b[49m\u001b[43m,\u001b[49m\u001b[43m \u001b[49m\u001b[43mreplace\u001b[49m\u001b[38;5;241;43m=\u001b[39;49m\u001b[43mreplace\u001b[49m\u001b[43m,\u001b[49m\u001b[43m \u001b[49m\u001b[43mp\u001b[49m\u001b[38;5;241;43m=\u001b[39;49m\u001b[43mweights\u001b[49m\u001b[43m)\u001b[49m\u001b[38;5;241m.\u001b[39mastype(\n\u001b[0;32m    151\u001b[0m     np\u001b[38;5;241m.\u001b[39mintp, copy\u001b[38;5;241m=\u001b[39m\u001b[38;5;28;01mFalse\u001b[39;00m\n\u001b[0;32m    152\u001b[0m )\n",
      "File \u001b[1;32mmtrand.pyx:909\u001b[0m, in \u001b[0;36mnumpy.random.mtrand.RandomState.choice\u001b[1;34m()\u001b[0m\n",
      "\u001b[1;31mValueError\u001b[0m: a must be greater than 0 unless no samples are taken"
     ]
    }
   ],
   "source": [
    "from medialib import *\n",
    "initialize()\n",
    "import pandas as pd\n",
    "import numpy as np\n",
    "\n",
    "initialX=10\n",
    "initialY=200 \n",
    "x1=40\n",
    "y1=230\n",
    "tileSize=30\n",
    "gamepoint=0\n",
    "\n",
    "df=pd.read_csv(\"letter-recognition.csv\",header=None)\n",
    "df=df.iloc[:,2:6]\n",
    "df.columns=[\"fish_x\",\"fish_y\",\"monster_x\",\"monster_y\"]\n",
    "df=df[df[\"fish_x\"]!=df[\"monster_x\"] ]\n",
    "df=df[df[\"fish_y\"]!=df[\"monster_y\"] ]\n",
    "fish=df[ df[\"fish_x\"].between(1,3) & df[\"fish_y\"].between(1,8) ]\n",
    "monster=df[df[\"monster_x\"].between(1,3) & df[\"monster_y\"].between(8,16) ]\n",
    "monster=monster[[\"monster_x\",\"monster_y\"]]\n",
    "monster=monster.drop_duplicates()\n",
    "\n",
    "\n",
    "fish=fish[[\"fish_x\",\"fish_y\"]]\n",
    "fish=fish.drop_duplicates()\n",
    "fish=fish.sample(n=11,random_state=223)\n",
    "monster=monster.sample(n=5,random_state=235)\n",
    "print(fish)\n",
    "print(monster)\n",
    "fish=fish.to_numpy()\n",
    "monster=monster.to_numpy()\n",
    "\n",
    "background=[['X','X','X','X','X','X','X','X','X','X','X','X','X','X','X','X','X','X'],\n",
    "            ['X','_','_','_','_','_','_','_','_','_','_','_','_','_','_','_','_','X'],\n",
    "            ['X','_','_','_','_','_','_','_','_','_','_','_','_','_','_','E','_','X'],\n",
    "            ['X','_','_','_','_','_','_','_','_','_','_','_','_','_','_','_','_','X'],\n",
    "            ['X','X','X','X','X','X','X','X','X','X','X','X','X','X','X','X','X','X']] \n",
    "\n",
    "for x,y in fish:\n",
    "    background[x][y]='F'\n",
    "for x,y in monster:\n",
    "    background[x][y]='M'\n",
    "    \n",
    "def draw_scene():\n",
    "    global x1\n",
    "    global y1\n",
    "    global initialX\n",
    "    global initialY\n",
    "    tileY=initialY\n",
    "    \n",
    "    for j in range(len(background)):\n",
    "        tileX=initialX    \n",
    "        for i in background[j]:\n",
    "            if i=='X':\n",
    "                draw('MazeGame_imgs\\X.png',tileX,tileY)\n",
    "            elif i=='M':\n",
    "                draw('MazeGame_imgs\\M.png',tileX,tileY)\n",
    "            elif i=='F':\n",
    "                draw('MazeGame_imgs\\F.png',tileX,tileY)\n",
    "            elif i=='E':\n",
    "                draw('MazeGame_imgs\\E.png',tileX,tileY)\n",
    "            elif i=='_':\n",
    "                draw('MazeGame_imgs\\_.png',tileX,tileY)           \n",
    "            tileX+=tileSize\n",
    "        tileY+=tileSize\n",
    "    draw('MazeGame_imgs\\C.png',x1,y1) \n",
    "draw_scene()\n",
    "print(background)\n",
    "wait_mouse_leftclick()\n",
    "all_done()"
   ]
  },
  {
   "cell_type": "code",
   "execution_count": 25,
   "id": "c745d8bc",
   "metadata": {},
   "outputs": [],
   "source": [
    "## the following line is just MAGIC ##############################################\n",
    "## we need it to be able to draw images on the screen ############################\n",
    "from medialib import *\n",
    "import datetime\n",
    "import time\n",
    "import pandas as pd\n",
    "initialize()\n",
    "\n",
    "##  each item of the list representing the background of each row\n",
    "background=[['X','X','X','X','X','X','X','X','X','X','X','X','X','X','X','X','X','X'],\n",
    "            ['X','_','F','F','_','_','M','_','_','F','F','_','F','_','_','_','_','X'],\n",
    "            ['X','F','_','_','M','_','M','F','_','_','F','_','_','M','_','E','F','X'],\n",
    "            ['X','_','_','F','_','_','_','_','_','F','M','_','F','_','F','_','_','X'],\n",
    "            ['X','X','X','X','X','X','X','X','X','X','X','X','X','X','X','X','X','X']] \n",
    "\n",
    "initialX=10\n",
    "initialY=200 \n",
    "x1=40\n",
    "y1=230\n",
    "tileSize=30\n",
    "gamepoint=0\n",
    "flag_monster=False\n",
    "flag_exit=False\n",
    "game_score_file=pd.read_csv(\"Game.csv\")\n",
    "game_latest_score=game_score_file.tail(1)[\"Points\"].array[0]\n",
    "#print(\"fjfjf\", game_latest_score.array[0], \"dkkdkd\")\n",
    "\n",
    "\n",
    "def convert_screenX_to_gridX(screenXPosition):\n",
    "    global initialX\n",
    "    return int((screenXPosition-initialX)/tileSize)\n",
    "\n",
    "def convert_screenY_to_gridY(screenYPosition):\n",
    "    global initialY\n",
    "    return int((screenYPosition-initialY)/tileSize)\n",
    "    \n",
    "#Function to update grid after kitten reaches fish,Monster and Exit\n",
    "def update_grid(x1,y1):\n",
    "    global tileSize\n",
    "    gridx=convert_screenX_to_gridX(x1)\n",
    "    gridy=convert_screenY_to_gridY(y1)\n",
    "        \n",
    "    if background[gridy][gridx]=='M':\n",
    "        clear()\n",
    "        global flag_monster\n",
    "        flag_monster=True\n",
    "        text(\"Game Over\", 10,370,20,r=255,b=0,g=0)\n",
    "    elif background[gridy][gridx]=='E':\n",
    "        clear()\n",
    "        global flag_exit\n",
    "        flag_exit=True\n",
    "       # draw('MazeGame_imgs\\you_win.png',100,150)\n",
    "   \n",
    "    \n",
    "#Function to update Points after kitten eats fishes\n",
    "    \n",
    "def check_player_collected_fish(x1,y1):\n",
    "    global tileSize\n",
    "    gridx=convert_screenX_to_gridX(x1)\n",
    "    gridy=convert_screenY_to_gridY(y1)\n",
    "    if background[gridy][gridx]=='F':\n",
    "        background[gridy][gridx]='_'\n",
    "        global gamepoint\n",
    "        gamepoint+=1\n",
    "        \n",
    "        \n",
    "#Function to draw the background and the cat\n",
    "def draw_scene():\n",
    "    global x1\n",
    "    global y1\n",
    "    global initialX\n",
    "    global initialY\n",
    "    tileY=initialY\n",
    "    \n",
    "    for j in range(len(background)):\n",
    "        tileX=initialX    \n",
    "        for i in background[j]:\n",
    "            if i=='X':\n",
    "                draw('MazeGame_imgs\\X.png',tileX,tileY)\n",
    "            elif i=='M':\n",
    "                draw('MazeGame_imgs\\M.png',tileX,tileY)\n",
    "            elif i=='F':\n",
    "                draw('MazeGame_imgs\\F.png',tileX,tileY)\n",
    "            elif i=='E':\n",
    "                draw('MazeGame_imgs\\E.png',tileX,tileY)\n",
    "            elif i=='_':\n",
    "                draw('MazeGame_imgs\\_.png',tileX,tileY)           \n",
    "            tileX+=tileSize\n",
    "        tileY+=tileSize\n",
    "        \n",
    "    draw('MazeGame_imgs\\C.png',x1,y1)\n",
    "\n",
    "def on_successfull_move_command():\n",
    "    global x1\n",
    "    global y1\n",
    "    check_player_collected_fish(x1,y1)\n",
    "    update_grid(x1,y1)\n",
    "    \n",
    "def check_move_is_valid(potentialNewCatX, potentialNewCatY):  \n",
    "    gridx=convert_screenX_to_gridX(potentialNewCatX)\n",
    "    gridy=convert_screenY_to_gridY(potentialNewCatY)\n",
    "    gridx=int((potentialNewCatX-10)/tileSize)\n",
    "    \n",
    "    # this checks if the next move is out of bounds on the multi dimensional array\n",
    "    # it checks the Y value first to short circuit if the values are out of bounds before checking the inner part of the array\n",
    "    if(gridy < 0 or gridy >= len(background) or gridx < 0 or gridx >= len(background[gridy])):\n",
    "        text(\"Out of bounds illegal move\", 10,370,14,r=255,b=0,g=0)\n",
    "        return False\n",
    "    \n",
    "    if background[gridy][gridx]=='X':\n",
    "        text(\"Hit a wall cant move further\", 10,370,14,r=255,b=0,g=0)\n",
    "        return False\n",
    "    \n",
    "    return True\n",
    "\n",
    "def move_command(newXPosition, newYPosition):\n",
    "    global x1\n",
    "    global y1\n",
    "    if(check_move_is_valid(newXPosition, newYPosition)):\n",
    "        #apply valid move to the global player position\n",
    "        x1=newXPosition\n",
    "        y1=newYPosition\n",
    "        on_successfull_move_command()\n",
    "            \n",
    "\n",
    "\n",
    "#loop for moving the kitten and updating grid and points\n",
    "starttime=datetime.datetime.now()\n",
    "draw_scene()\n",
    "\n",
    "while flag_exit==False and flag_monster==False:\n",
    "    \n",
    "    text(\"last game score is\" , 10,400,14,r=255,b=0,g=0)\n",
    "    #print(game_latest_score)\n",
    "    text(str(game_latest_score), 10,430,14,r=255,b=0,g=0)\n",
    "    userinput = wait_key_press()\n",
    "    clear()\n",
    "    if userinput=='a':\n",
    "        move_command(x1-tileSize, y1)\n",
    "    elif userinput=='d':  \n",
    "        move_command(x1+tileSize, y1)     \n",
    "    elif userinput=='w':\n",
    "        move_command(x1, y1-tileSize)\n",
    "    elif userinput=='s':\n",
    "        move_command(x1, y1+tileSize)\n",
    "    elif userinput=='q':\n",
    "        clear()\n",
    "        break\n",
    "    else:\n",
    "        text(\"This is a illegal input!!!\", 10,410,14,r=255,b=0,g=0)\n",
    "    \n",
    "    draw_scene()\n",
    "    \n",
    "    text(str(gamepoint), 10,150,14,r=255,b=0,g=0)\n",
    "    if flag_exit==True:\n",
    "        draw('MazeGame_imgs\\you_win.png',100,150)\n",
    "    if flag_monster==True:\n",
    "        text(\"Game Over\", 10,450,20,r=255,b=0,g=0)\n",
    "    \n",
    "\n",
    "     \n",
    "endtime=datetime.datetime.now()  \n",
    "time_diff=endtime-starttime\n",
    "file=open('game.csv','a')\n",
    "file.write(str(gamepoint) + \",\" + str(datetime.datetime.now())  + \",\" + str(time_diff.total_seconds())+ \"\\n\")\n",
    "file.close()\n",
    "\n",
    "\n",
    "\n",
    "wait_mouse_leftclick()\n",
    "all_done()"
   ]
  },
  {
   "cell_type": "code",
   "execution_count": 17,
   "id": "46821055",
   "metadata": {
    "scrolled": false
   },
   "outputs": [
    {
     "data": {
      "text/plain": [
       "Points       float64\n",
       "Date          object\n",
       "TimeTaken    float64\n",
       "dtype: object"
      ]
     },
     "execution_count": 17,
     "metadata": {},
     "output_type": "execute_result"
    }
   ],
   "source": [
    "import pandas as pd\n",
    "game_score_file=pd.read_csv(\"Game.csv\")\n",
    "game_score_file.head()\n",
    "#game_score_file[\"Points\"]\n",
    "\n",
    "game_score_file.dtypes\n",
    "#print(game_score_file[\"Points\"].tail())"
   ]
  },
  {
   "cell_type": "code",
   "execution_count": 13,
   "id": "308b3732",
   "metadata": {},
   "outputs": [
    {
     "data": {
      "image/png": "[encoded data removed]",
      "text/plain": [
       "<Figure size 432x288 with 1 Axes>"
      ]
     },
     "metadata": {
      "needs_background": "light"
     },
     "output_type": "display_data"
    }
   ],
   "source": [
    "import matplotlib.pyplot as plt\n",
    "game_score_file.plot.scatter(x=\"Points\", y=\"TimeTaken\", alpha=0.5)\n",
    "\n",
    "\n",
    "plt.show()"
   ]
  },
  {
   "cell_type": "code",
   "execution_count": 22,
   "id": "2ee6e5f3",
   "metadata": {
    "scrolled": false
   },
   "outputs": [
    {
     "data": {
      "image/png": "[encoded data removed]",
      "text/plain": [
       "<Figure size 432x288 with 1 Axes>"
      ]
     },
     "metadata": {
      "needs_background": "light"
     },
     "output_type": "display_data"
    }
   ],
   "source": [
    "plt.hist(game_score_file[\"TimeTaken\"],50, density=True, facecolor='g', alpha=0.75)\n",
    "plt.xlabel('')\n",
    "plt.ylabel('')\n",
    "plt.title('Histogram of IQ')\n",
    "#plt.text(60, .025, r'$\\mu=100,\\ \\sigma=15$')\n",
    "#plt.xlim(40, 160)\n",
    "#plt.ylim(0, 0.03)\n",
    "plt.grid(True)\n",
    "plt.show()"
   ]
  },
  {
   "cell_type": "code",
   "execution_count": 41,
   "id": "e6387d1b",
   "metadata": {},
   "outputs": [
    {
     "data": {
      "image/png": "[encoded data removed]",
      "text/plain": [
       "<Figure size 432x288 with 1 Axes>"
      ]
     },
     "metadata": {
      "needs_background": "light"
     },
     "output_type": "display_data"
    }
   ],
   "source": [
    "game_score_file[\"Points\"].plot()\n",
    "\n",
    "\n",
    "plt.show()"
   ]
  },
  {
   "cell_type": "code",
   "execution_count": 18,
   "id": "8ba52e03",
   "metadata": {},
   "outputs": [
    {
     "name": "stdout",
     "output_type": "stream",
     "text": [
      "       fish_x  fish_y\n",
      "4           1       1\n",
      "6           4       4\n",
      "7           2       1\n",
      "8           4       2\n",
      "15          4       3\n",
      "...       ...     ...\n",
      "19985       4       5\n",
      "19989       2       1\n",
      "19991       4       2\n",
      "19995       3       2\n",
      "19998       2       1\n",
      "\n",
      "[6829 rows x 2 columns]\n"
     ]
    }
   ],
   "source": [
    "df=pd.read_csv(\"letter-recognition.csv\",header=None)\n",
    "df=df.iloc[:,2:6]\n",
    "df.columns=[\"monster_x\",\"monster_y\",\"fish_x\",\"fish_y\"]\n",
    "\n",
    "fish=df[[\"fish_x\",\"fish_y\"]]\n",
    "fish=fish[ df.fish_x<5]\n",
    "\n",
    "print(fish)"
   ]
  },
  {
   "cell_type": "code",
   "execution_count": 6,
   "id": "ea563164",
   "metadata": {},
   "outputs": [
    {
     "name": "stdout",
     "output_type": "stream",
     "text": [
      "      fish_x  fish_y\n",
      "64         3       4\n",
      "19         2       3\n",
      "4453       2       7\n",
      "383        2       2\n",
      "20         3       2\n",
      "4          1       3\n",
      "1226       3       1\n",
      "1018       1       5\n",
      "189        2       1\n",
      "1079       1       1\n",
      "130        1       4\n",
      "      monster_x  monster_y\n",
      "19            3          1\n",
      "64            1          2\n",
      "256           3          3\n",
      "16            3          2\n",
      "1022          2          3\n"
     ]
    }
   ],
   "source": [
    "from medialib import *\n",
    "#initialize()\n",
    "import pandas as pd\n",
    "import numpy as np\n",
    "\n",
    "df=pd.read_csv(\"letter-recognition.csv\",header=None)\n",
    "df=df.iloc[:,2:6]\n",
    "df.columns=[\"fish_x\",\"fish_y\",\"monster_x\",\"monster_y\"]\n",
    "fish=df[ df[\"fish_x\"].between(1,3) & df[\"fish_y\"].between(1,16) ]\n",
    "monster=df[df[\"monster_x\"].between(1,3) & df[\"monster_y\"].between(1,16) ]\n",
    "monster=monster[[\"monster_x\",\"monster_y\"]]\n",
    "monster=monster.drop_duplicates()\n",
    "monster=monster.sample(n=5,random_state=4)\n",
    "\n",
    "fish=fish[[\"fish_x\",\"fish_y\"]]\n",
    "fish=fish.drop_duplicates()\n",
    "fish=fish.sample(n=11,random_state=4)\n",
    "print(fish)\n",
    "print(monster)\n",
    "fish=fish.to_numpy()\n",
    "monster=monster.to_numpy()"
   ]
  },
  {
   "cell_type": "code",
   "execution_count": null,
   "id": "294005e7",
   "metadata": {},
   "outputs": [],
   "source": []
  }
 ],
 "metadata": {
  "kernelspec": {
   "display_name": "Python 3 (ipykernel)",
   "language": "python",
   "name": "python3"
  },
  "language_info": {
   "codemirror_mode": {
    "name": "ipython",
    "version": 3
   },
   "file_extension": ".py",
   "mimetype": "text/x-python",
   "name": "python",
   "nbconvert_exporter": "python",
   "pygments_lexer": "ipython3",
   "version": "3.9.12"
  }
 },
 "nbformat": 4,
 "nbformat_minor": 5
}
